{
 "cells": [
  {
   "cell_type": "markdown",
   "id": "7323493c",
   "metadata": {},
   "source": [
    "# Bike Sharing Assignment"
   ]
  },
  {
   "cell_type": "markdown",
   "id": "7c94c080",
   "metadata": {},
   "source": [
    "### Problem Statement\n",
    "<br>A bike-sharing system is a service in which bikes are made available for shared use to individuals on a short term basis for a price or free. Many bike share systems allow people to borrow a bike from a \"dock\" which is usually computer-controlled wherein the user enters the payment information, and the system unlocks it. This bike can then be returned to another dock belonging to the same system. <br><br> A US bike-sharing provider <b>BoomBikes</b> has recently suffered considerable dips in their revenues due to the ongoing Corona pandemic. The company is finding it very difficult to sustain in the current market scenario. So, it has decided to come up with a mindful business plan to be able to accelerate its revenue as soon as the ongoing lockdown comes to an end, and the economy restores to a healthy state. <br><br>In such an attempt, BoomBikes aspires to understand the demand for shared bikes among the people after this ongoing quarantine situation ends across the nation due to Covid-19. They have planned this to prepare themselves to cater to the people's needs once the situation gets better all around and stand out from other service providers and make huge profits.\n",
    "\n",
    "\n",
    "They have contracted a consulting company to understand the factors on which the demand for these shared bikes depends. Specifically, they want to understand the factors affecting the demand for these shared bikes in the American market. The company wants to know:\n",
    "- <i> Which variables are significant in predicting the demand for shared bikes.</i>\n",
    "- <i> How well those variables describe the bike demands</i>\n",
    "\n",
    "Based on various meteorological surveys and people's styles, the service provider firm has gathered a large dataset on daily bike demands across the American market based on some factors. "
   ]
  },
  {
   "cell_type": "markdown",
   "id": "48d9b7a5",
   "metadata": {},
   "source": [
    "#### Business Goal:\n",
    "You are required to model the demand for shared bikes with the available independent variables. It will be used by the management to understand how exactly the demands vary with different features. They can accordingly manipulate the business strategy to meet the demand levels and meet the customer's expectations. Further, the model will be a good way for management to understand the demand dynamics of a new market. "
   ]
  },
  {
   "cell_type": "markdown",
   "id": "980e6e46",
   "metadata": {},
   "source": [
    "<hr>"
   ]
  },
  {
   "cell_type": "code",
   "execution_count": null,
   "id": "cae29454",
   "metadata": {},
   "outputs": [],
   "source": [
    "import numpy as np\n",
    "import pandas as pd\n",
    "import matplotlib.pyplot as plt\n",
    "import seaborn as sns"
   ]
  },
  {
   "cell_type": "code",
   "execution_count": null,
   "id": "7b73d8f6",
   "metadata": {},
   "outputs": [],
   "source": [
    "df = pd.read_csv(\"day.csv\")\n",
    "df.head()"
   ]
  },
  {
   "cell_type": "code",
   "execution_count": null,
   "id": "73561da4",
   "metadata": {},
   "outputs": [],
   "source": [
    "df.shape"
   ]
  },
  {
   "cell_type": "code",
   "execution_count": null,
   "id": "6936987d",
   "metadata": {},
   "outputs": [],
   "source": [
    "df.columns"
   ]
  },
  {
   "cell_type": "code",
   "execution_count": null,
   "id": "24f12a92",
   "metadata": {},
   "outputs": [],
   "source": [
    "df.info()"
   ]
  },
  {
   "cell_type": "markdown",
   "id": "c227f11a",
   "metadata": {},
   "source": [
    "The dataset consists of 730 roes and 16 columns. <br>There are no null values. <br>The data consists of types `int64` and `float64` with one column of type `object`"
   ]
  },
  {
   "cell_type": "code",
   "execution_count": null,
   "id": "5375d945",
   "metadata": {},
   "outputs": [],
   "source": [
    "df.dteday.head()"
   ]
  },
  {
   "cell_type": "markdown",
   "id": "ae4d56f2",
   "metadata": {},
   "source": [
    "The `object` type column `dteday` consists of date values"
   ]
  },
  {
   "cell_type": "code",
   "execution_count": null,
   "id": "e2f7a7c2",
   "metadata": {},
   "outputs": [],
   "source": []
  },
  {
   "cell_type": "markdown",
   "id": "59297a1f",
   "metadata": {},
   "source": [
    "### Exploring Data"
   ]
  },
  {
   "cell_type": "markdown",
   "id": "aa3fcc7b",
   "metadata": {},
   "source": [
    "#### 1. Drop unnecessary columns"
   ]
  },
  {
   "cell_type": "markdown",
   "id": "43787cde",
   "metadata": {},
   "source": [
    "- `instant` is an indexing column, it can be removed\n",
    "- we don't really need `dteday` as there are other columns such as `year`, `mnth` and `weekday` already\n",
    "- columns `casual` and `registered` are described using the colum `cnt`, seems like a redundancy"
   ]
  },
  {
   "cell_type": "code",
   "execution_count": null,
   "id": "c4b7e5aa",
   "metadata": {},
   "outputs": [],
   "source": [
    "drop_columns = [\"instant\", \"dteday\", \"casual\", \"registered\"]\n",
    "df.drop(drop_columns, axis=1, inplace=True)\n",
    "df.head()"
   ]
  },
  {
   "cell_type": "markdown",
   "id": "c1b5458a",
   "metadata": {},
   "source": [
    "#### 2. Checking for outliers"
   ]
  },
  {
   "cell_type": "code",
   "execution_count": null,
   "id": "01f86855",
   "metadata": {},
   "outputs": [],
   "source": [
    "continuous_var_colums = ['temp', 'atemp', 'hum', 'windspeed']\n",
    "plt.figure(figsize=(18,4))\n",
    "\n",
    "for col in range(1, len(continuous_var_colums)+1):\n",
    "    plt.subplot(1,4,col)\n",
    "    sns.boxplot(y=continuous_var_colums[col-1], data=df)"
   ]
  },
  {
   "cell_type": "markdown",
   "id": "c45e5898",
   "metadata": {},
   "source": [
    "doesn't look like there are any outlying values for the described continuous variable|"
   ]
  },
  {
   "cell_type": "markdown",
   "id": "e84b2040",
   "metadata": {},
   "source": [
    "#### 3. Categorizing variable"
   ]
  },
  {
   "cell_type": "code",
   "execution_count": null,
   "id": "52a67b7f",
   "metadata": {},
   "outputs": [],
   "source": [
    "df.season.replace({1:\"spring\", 2:\"summer\", 3:\"fall\", 4:\"winter\"},inplace = True)\n",
    "\n",
    "df.weathersit.replace({1:'clear',2:'moderate',3:'bad',4:'severe'},inplace = True)\n",
    "\n",
    "df.mnth.replace({1: 'jan',2: 'feb',3: 'mar',4: 'apr',5: 'may',6: 'jun',\n",
    "                  7: 'jul',8: 'aug',9: 'sept',10: 'oct',11: 'nov',12: 'dec'}, inplace=True)\n",
    "\n",
    "df.weekday.replace({0: 'sun',1: 'mon',2: 'tue',3: 'wed',4: 'thu',5: 'fri',6: 'sat'}, inplace=True)\n",
    "\n",
    "# df.yr.replace({0: \"2018\", 1: \"2019\"}, inplace=True)\n",
    "\n",
    "df.head()\n",
    "\n"
   ]
  },
  {
   "cell_type": "code",
   "execution_count": null,
   "id": "8c5ed5c9",
   "metadata": {},
   "outputs": [],
   "source": [
    "df.info()"
   ]
  },
  {
   "cell_type": "markdown",
   "id": "efc4fa36",
   "metadata": {},
   "source": [
    "### Visualizing the data"
   ]
  },
  {
   "cell_type": "code",
   "execution_count": null,
   "id": "c7a08a9a",
   "metadata": {},
   "outputs": [],
   "source": [
    "sns.pairplot(df)"
   ]
  },
  {
   "cell_type": "markdown",
   "id": "af80082d",
   "metadata": {},
   "source": [
    "Looking at the scatterplots, seems like `temp` and `atemp` have the highest correlation with the target variable `cnt`<br><br>Also, `temp` and `atemp` are highly correlated with each other"
   ]
  },
  {
   "cell_type": "code",
   "execution_count": null,
   "id": "6a9d7632",
   "metadata": {},
   "outputs": [],
   "source": [
    "plt.figure(figsize=(20,20))\n",
    "sns.heatmap(df.corr(),annot=True)\n",
    "plt.show()"
   ]
  },
  {
   "cell_type": "markdown",
   "id": "57755b1b",
   "metadata": {},
   "source": [
    "looking at a few of the continuous variables up close"
   ]
  },
  {
   "cell_type": "code",
   "execution_count": null,
   "id": "01829f3d",
   "metadata": {},
   "outputs": [],
   "source": [
    "sns.heatmap(df[['temp','atemp','hum','windspeed','cnt']].corr(), cmap='BuGn_r', annot = True)\n",
    "plt.show()"
   ]
  },
  {
   "cell_type": "markdown",
   "id": "2ccd80c2",
   "metadata": {},
   "source": [
    "We see that `temp` and `atemp` have a correlation of almost 1"
   ]
  },
  {
   "cell_type": "markdown",
   "id": "f54199bb",
   "metadata": {},
   "source": [
    "Let's take a look at some categorical variables as well"
   ]
  },
  {
   "cell_type": "code",
   "execution_count": null,
   "id": "a061de20",
   "metadata": {},
   "outputs": [],
   "source": [
    "categorical = ['season','yr','mnth','holiday','weekday','workingday','weathersit']\n",
    "plt.figure(figsize=(15, 15))\n",
    "for i in enumerate(categorical):\n",
    "    plt.subplot(3,3,i[0]+1)\n",
    "    sns.boxplot(data=df, x=i[1], y='cnt')\n",
    "plt.show()"
   ]
  },
  {
   "cell_type": "markdown",
   "id": "d69a9305",
   "metadata": {},
   "source": [
    "Inference:\n",
    "1. While Seasons are considered, fall has the highest demand for rental bikes\n",
    "2. The year 2019 showed considerably larger demand for rentals as opposed to the previous year 2018\n",
    "3. Monthwise demand shows that there is a steady increase till the month of June. After which there is some inconsistent demand and the demand falls off in the months of November and December\n",
    "4. Demand seems to be higher on non-holidays.\n",
    "5. Weekdays do not seem to show a change in demand.\n",
    "6. Rentals are used more often when the weather allows it. i.e. when the weather is clear."
   ]
  },
  {
   "cell_type": "markdown",
   "id": "e7daa629",
   "metadata": {},
   "source": [
    "### Preparing Data"
   ]
  },
  {
   "cell_type": "markdown",
   "id": "94bc6213",
   "metadata": {},
   "source": [
    "#### Creating Dummy Variables\n",
    "Convert categorical variable into dummy/indicator variables."
   ]
  },
  {
   "cell_type": "code",
   "execution_count": null,
   "id": "a2607849",
   "metadata": {},
   "outputs": [],
   "source": [
    "df = pd.get_dummies(data=df,columns=[\"season\",\"mnth\",\"weekday\"],drop_first=True)\n",
    "df = pd.get_dummies(data=df,columns=[\"weathersit\"])\n",
    "df.columns"
   ]
  },
  {
   "cell_type": "code",
   "execution_count": null,
   "id": "12b2b9f7",
   "metadata": {},
   "outputs": [],
   "source": [
    "df.head()"
   ]
  },
  {
   "cell_type": "markdown",
   "id": "3969b63c",
   "metadata": {},
   "source": [
    "###  Model Building"
   ]
  },
  {
   "cell_type": "markdown",
   "id": "cd243210",
   "metadata": {},
   "source": [
    "#### Splitting Data"
   ]
  },
  {
   "cell_type": "code",
   "execution_count": null,
   "id": "69033971",
   "metadata": {},
   "outputs": [],
   "source": [
    "from sklearn.model_selection import train_test_split"
   ]
  },
  {
   "cell_type": "code",
   "execution_count": null,
   "id": "3cf17a7e",
   "metadata": {},
   "outputs": [],
   "source": [
    "y=df.pop('cnt')\n",
    "\n",
    "X=df\n",
    "\n",
    "X_train, X_test, y_train, y_test = train_test_split(X, y, test_size=0.3, random_state=77)"
   ]
  },
  {
   "cell_type": "code",
   "execution_count": null,
   "id": "2a7d4eac",
   "metadata": {},
   "outputs": [],
   "source": [
    "X.head()"
   ]
  },
  {
   "cell_type": "code",
   "execution_count": null,
   "id": "a140967c",
   "metadata": {},
   "outputs": [],
   "source": [
    "y.head()"
   ]
  },
  {
   "cell_type": "code",
   "execution_count": null,
   "id": "bdf98404",
   "metadata": {},
   "outputs": [],
   "source": [
    "\n",
    "print(X_train.shape)\n",
    "print(X_test.shape)"
   ]
  },
  {
   "cell_type": "markdown",
   "id": "6118f965",
   "metadata": {},
   "source": [
    "#### Feature Scaling"
   ]
  },
  {
   "cell_type": "code",
   "execution_count": null,
   "id": "75af5f90",
   "metadata": {},
   "outputs": [],
   "source": [
    "from sklearn.preprocessing import MinMaxScaler"
   ]
  },
  {
   "cell_type": "code",
   "execution_count": null,
   "id": "e4c87a3a",
   "metadata": {},
   "outputs": [],
   "source": [
    "continuous_vars = ['temp','atemp','hum','windspeed']\n",
    "\n",
    "#Use Normalized scaler to scale\n",
    "scaler = MinMaxScaler()\n",
    "\n",
    "#Fit and transform training set only\n",
    "X_train[continuous_vars] = scaler.fit_transform(X_train[continuous_vars])"
   ]
  },
  {
   "cell_type": "code",
   "execution_count": null,
   "id": "83361fa3",
   "metadata": {},
   "outputs": [],
   "source": [
    "X_train.describe()"
   ]
  },
  {
   "cell_type": "markdown",
   "id": "d0ad5f2d",
   "metadata": {},
   "source": [
    "#### RFE"
   ]
  },
  {
   "cell_type": "code",
   "execution_count": null,
   "id": "2b4d06ae",
   "metadata": {},
   "outputs": [],
   "source": [
    "from sklearn.linear_model import LinearRegression\n",
    "from sklearn.feature_selection import RFE"
   ]
  },
  {
   "cell_type": "code",
   "execution_count": null,
   "id": "81156561",
   "metadata": {},
   "outputs": [],
   "source": [
    "lr = LinearRegression()\n",
    "lr.fit(X_train,y_train)"
   ]
  },
  {
   "cell_type": "code",
   "execution_count": null,
   "id": "4ed24e17",
   "metadata": {},
   "outputs": [],
   "source": [
    "# Using Linear Regression as an estimator, selecting 15 features\n",
    "rfe = RFE(lr,n_features_to_select=15)\n",
    "rfe.fit(X_train,y_train)"
   ]
  },
  {
   "cell_type": "code",
   "execution_count": null,
   "id": "69e5da6c",
   "metadata": {},
   "outputs": [],
   "source": [
    "# Features selected by RFE\n",
    "list(zip(X_train.columns,rfe.support_,rfe.ranking_))"
   ]
  },
  {
   "cell_type": "markdown",
   "id": "98888aa6",
   "metadata": {},
   "source": [
    "#### Manual Elimination"
   ]
  },
  {
   "cell_type": "code",
   "execution_count": null,
   "id": "9535be26",
   "metadata": {},
   "outputs": [],
   "source": [
    "X_train.columns[rfe.support_]"
   ]
  },
  {
   "cell_type": "code",
   "execution_count": null,
   "id": "b78030aa",
   "metadata": {},
   "outputs": [],
   "source": [
    "X_train.columns[~rfe.support_]"
   ]
  },
  {
   "cell_type": "code",
   "execution_count": null,
   "id": "67233351",
   "metadata": {},
   "outputs": [],
   "source": [
    "# Taking 15 features selected by RFE for regression\n",
    "X_train_rfe = X_train[['yr', 'holiday', 'workingday', 'temp', 'hum', 'windspeed', 'season_spring',\n",
    "       'season_summer', 'season_winter', 'mnth_jan', 'mnth_jul', 'mnth_sept', 'weekday_sat',\n",
    "       'weathersit_bad', 'weathersit_moderate']]"
   ]
  },
  {
   "cell_type": "code",
   "execution_count": null,
   "id": "bc9ccc8e",
   "metadata": {},
   "outputs": [],
   "source": []
  },
  {
   "cell_type": "markdown",
   "id": "c02b226c",
   "metadata": {},
   "source": [
    "##### Model I"
   ]
  },
  {
   "cell_type": "code",
   "execution_count": null,
   "id": "374b49c4",
   "metadata": {},
   "outputs": [],
   "source": [
    "import statsmodels.api as sm\n",
    "from statsmodels.stats.outliers_influence import variance_inflation_factor"
   ]
  },
  {
   "cell_type": "code",
   "execution_count": null,
   "id": "f16acb97",
   "metadata": {},
   "outputs": [],
   "source": [
    "# For model-I we add all columns selected by RFE\n",
    "target_columns = ['yr', 'holiday', 'workingday', 'temp', 'hum', 'windspeed', 'season_spring',\n",
    "       'season_summer', 'season_winter', 'mnth_jan', 'mnth_jul', 'mnth_sept', 'weekday_sat',\n",
    "       'weathersit_bad', 'weathersit_moderate']\n",
    "\n",
    "X_train_sm = sm.add_constant(X_train[target_columns])\n",
    "lm = sm.OLS(y_train, X_train_sm).fit()\n",
    "print(lm.summary())\n",
    "\n",
    "df1 = X_train[target_columns]\n",
    "vif = pd.DataFrame()\n",
    "vif['Features'] = df1.columns\n",
    "vif['VIF'] = [variance_inflation_factor(df1.values, i) for i in range(df1.shape[1])]\n",
    "vif['VIF'] = round(vif['VIF'],2)\n",
    "\n",
    "print(vif.sort_values(by='VIF',ascending=False))"
   ]
  },
  {
   "cell_type": "markdown",
   "id": "c7a2ade9",
   "metadata": {},
   "source": [
    "##### Model II"
   ]
  },
  {
   "cell_type": "markdown",
   "id": "10ad7250",
   "metadata": {},
   "source": [
    "Dropping `mnth_jan` for its high p-value"
   ]
  },
  {
   "cell_type": "code",
   "execution_count": null,
   "id": "331cc78e",
   "metadata": {},
   "outputs": [],
   "source": [
    "target_columns = ['yr', 'holiday', 'workingday', 'temp', 'hum', 'windspeed', 'season_spring',\n",
    "       'season_summer', 'season_winter', 'mnth_jul', 'mnth_sept', 'weekday_sat',\n",
    "       'weathersit_bad', 'weathersit_moderate']\n",
    "\n",
    "X_train_sm = sm.add_constant(X_train[target_columns])\n",
    "lm = sm.OLS(y_train, X_train_sm).fit()\n",
    "print(lm.summary())\n",
    "\n",
    "df1 = X_train[target_columns]\n",
    "vif = pd.DataFrame()\n",
    "vif['Features'] = df1.columns\n",
    "vif['VIF'] = [variance_inflation_factor(df1.values, i) for i in range(df1.shape[1])]\n",
    "vif['VIF'] = round(vif['VIF'],2)\n",
    "\n",
    "print(vif.sort_values(by='VIF',ascending=False))"
   ]
  },
  {
   "cell_type": "code",
   "execution_count": null,
   "id": "25958bc7",
   "metadata": {},
   "outputs": [],
   "source": []
  },
  {
   "cell_type": "code",
   "execution_count": null,
   "id": "b1c57038",
   "metadata": {},
   "outputs": [],
   "source": []
  },
  {
   "cell_type": "markdown",
   "id": "e25ac630",
   "metadata": {},
   "source": [
    "##### Model III"
   ]
  },
  {
   "cell_type": "markdown",
   "id": "cbe313e7",
   "metadata": {},
   "source": [
    "Dropping `holiday` for its high p-value"
   ]
  },
  {
   "cell_type": "code",
   "execution_count": null,
   "id": "8bc65df3",
   "metadata": {},
   "outputs": [],
   "source": [
    "target_columns = ['yr', 'workingday', 'temp', 'hum', 'windspeed', 'season_spring',\n",
    "       'season_summer', 'season_winter', 'mnth_jul', 'mnth_sept', 'weekday_sat',\n",
    "       'weathersit_bad', 'weathersit_moderate']\n",
    "\n",
    "X_train_sm = sm.add_constant(X_train[target_columns])\n",
    "lm = sm.OLS(y_train, X_train_sm).fit()\n",
    "print(lm.summary())\n",
    "\n",
    "df1 = X_train[target_columns]\n",
    "vif = pd.DataFrame()\n",
    "vif['Features'] = df1.columns\n",
    "vif['VIF'] = [variance_inflation_factor(df1.values, i) for i in range(df1.shape[1])]\n",
    "vif['VIF'] = round(vif['VIF'],2)\n",
    "\n",
    "print(vif.sort_values(by='VIF',ascending=False))"
   ]
  },
  {
   "cell_type": "markdown",
   "id": "3449bff5",
   "metadata": {},
   "source": [
    "##### Model IV"
   ]
  },
  {
   "cell_type": "markdown",
   "id": "5210fd57",
   "metadata": {},
   "source": [
    "Since all the p-values appear to be below 0.05, we can consider the VIF values"
   ]
  },
  {
   "cell_type": "markdown",
   "id": "1f17edfc",
   "metadata": {},
   "source": [
    "Dropping `hum` for its high VIF"
   ]
  },
  {
   "cell_type": "code",
   "execution_count": null,
   "id": "fcfe24a8",
   "metadata": {},
   "outputs": [],
   "source": [
    "target_columns = ['yr', 'workingday', 'temp', 'windspeed', 'season_spring',\n",
    "       'season_summer', 'season_winter', 'mnth_jul', 'mnth_sept', 'weekday_sat',\n",
    "       'weathersit_bad', 'weathersit_moderate']\n",
    "\n",
    "X_train_sm = sm.add_constant(X_train[target_columns])\n",
    "lm = sm.OLS(y_train, X_train_sm).fit()\n",
    "print(lm.summary())\n",
    "\n",
    "df1 = X_train[target_columns]\n",
    "vif = pd.DataFrame()\n",
    "vif['Features'] = df1.columns\n",
    "vif['VIF'] = [variance_inflation_factor(df1.values, i) for i in range(df1.shape[1])]\n",
    "vif['VIF'] = round(vif['VIF'],2)\n",
    "\n",
    "print(vif.sort_values(by='VIF',ascending=False))"
   ]
  },
  {
   "cell_type": "markdown",
   "id": "c4c058e2",
   "metadata": {},
   "source": [
    "##### Model V"
   ]
  },
  {
   "cell_type": "markdown",
   "id": "7679dfaf",
   "metadata": {},
   "source": [
    "Dropping `mnth_jul` for its high p-value"
   ]
  },
  {
   "cell_type": "code",
   "execution_count": null,
   "id": "ef67ea7e",
   "metadata": {},
   "outputs": [],
   "source": [
    "target_columns = ['yr', 'workingday', 'temp', 'windspeed', 'season_spring',\n",
    "       'season_summer', 'season_winter', 'mnth_sept', 'weekday_sat',\n",
    "       'weathersit_bad', 'weathersit_moderate']\n",
    "\n",
    "X_train_sm = sm.add_constant(X_train[target_columns])\n",
    "lm = sm.OLS(y_train, X_train_sm).fit()\n",
    "print(lm.summary())\n",
    "\n",
    "df1 = X_train[target_columns]\n",
    "vif = pd.DataFrame()\n",
    "vif['Features'] = df1.columns\n",
    "vif['VIF'] = [variance_inflation_factor(df1.values, i) for i in range(df1.shape[1])]\n",
    "vif['VIF'] = round(vif['VIF'],2)\n",
    "\n",
    "print(vif.sort_values(by='VIF',ascending=False))"
   ]
  },
  {
   "cell_type": "markdown",
   "id": "af684457",
   "metadata": {},
   "source": [
    "##### Model VI"
   ]
  },
  {
   "cell_type": "markdown",
   "id": "ad3a9bbb",
   "metadata": {},
   "source": [
    "Removing `temp` as it has a high VIF"
   ]
  },
  {
   "cell_type": "markdown",
   "id": "53fe9b33",
   "metadata": {},
   "source": [
    "target_columns = ['yr', 'workingday', 'windspeed', 'season_spring',\n",
    "       'season_summer', 'season_winter', 'mnth_sept', 'weekday_sat',\n",
    "       'weathersit_bad', 'weathersit_moderate']\n",
    "\n",
    "X_train_sm = sm.add_constant(X_train[target_columns])\n",
    "lm = sm.OLS(y_train, X_train_sm).fit()\n",
    "print(lm.summary())\n",
    "\n",
    "df1 = X_train[target_columns]\n",
    "vif = pd.DataFrame()\n",
    "vif['Features'] = df1.columns\n",
    "vif['VIF'] = [variance_inflation_factor(df1.values, i) for i in range(df1.shape[1])]\n",
    "vif['VIF'] = round(vif['VIF'],2)\n",
    "\n",
    "print(vif.sort_values(by='VIF',ascending=False))"
   ]
  },
  {
   "cell_type": "markdown",
   "id": "e76fc05d",
   "metadata": {},
   "source": [
    "Here, the VIF and p-values seem to be in an acceptable range. <br>But we have an R-squared value of about 0.76, lets try to improve it"
   ]
  },
  {
   "cell_type": "markdown",
   "id": "550dae72",
   "metadata": {},
   "source": [
    "##### Model VII"
   ]
  },
  {
   "cell_type": "markdown",
   "id": "abffa2a0",
   "metadata": {},
   "source": [
    "We can try replacing `weekday_sat` with `weekday_sun`"
   ]
  },
  {
   "cell_type": "markdown",
   "id": "d3c35b49",
   "metadata": {},
   "source": [
    "target_columns = ['yr', 'workingday', 'windspeed', 'season_spring',\n",
    "       'season_summer', 'season_winter', 'mnth_sept', 'weekday_sun',\n",
    "       'weathersit_bad', 'weathersit_moderate']\n",
    "\n",
    "X_train_sm = sm.add_constant(X_train[target_columns])\n",
    "lm = sm.OLS(y_train, X_train_sm).fit()\n",
    "print(lm.summary())\n",
    "\n",
    "df1 = X_train[target_columns]\n",
    "vif = pd.DataFrame()\n",
    "vif['Features'] = df1.columns\n",
    "vif['VIF'] = [variance_inflation_factor(df1.values, i) for i in range(df1.shape[1])]\n",
    "vif['VIF'] = round(vif['VIF'],2)\n",
    "\n",
    "print(vif.sort_values(by='VIF',ascending=False))"
   ]
  },
  {
   "cell_type": "markdown",
   "id": "2c3e89ce",
   "metadata": {},
   "source": [
    "##### Model VIII"
   ]
  },
  {
   "cell_type": "markdown",
   "id": "04a0d5ea",
   "metadata": {},
   "source": [
    "target_columns = ['yr', 'windspeed', 'season_spring',\n",
    "       'season_summer', 'season_winter', 'mnth_sept', 'weekday_sun',\n",
    "       'weathersit_bad', 'weathersit_moderate']\n",
    "\n",
    "X_train_sm = sm.add_constant(X_train[target_columns])\n",
    "lm = sm.OLS(y_train, X_train_sm).fit()\n",
    "print(lm.summary())\n",
    "\n",
    "df1 = X_train[target_columns]\n",
    "vif = pd.DataFrame()\n",
    "vif['Features'] = df1.columns\n",
    "vif['VIF'] = [variance_inflation_factor(df1.values, i) for i in range(df1.shape[1])]\n",
    "vif['VIF'] = round(vif['VIF'],2)\n",
    "\n",
    "print(vif.sort_values(by='VIF',ascending=False))"
   ]
  },
  {
   "cell_type": "code",
   "execution_count": null,
   "id": "2209acc9",
   "metadata": {},
   "outputs": [],
   "source": []
  },
  {
   "cell_type": "code",
   "execution_count": null,
   "id": "c781bd69",
   "metadata": {},
   "outputs": [],
   "source": []
  },
  {
   "cell_type": "code",
   "execution_count": null,
   "id": "9b8f213f",
   "metadata": {},
   "outputs": [],
   "source": [
    "\n",
    "lr = LinearRegression()\n",
    "lr.fit(X_train[target_columns],y_train)\n",
    "print(lr.intercept_,lr.coef_)"
   ]
  },
  {
   "cell_type": "code",
   "execution_count": null,
   "id": "afde2290",
   "metadata": {},
   "outputs": [],
   "source": []
  },
  {
   "cell_type": "code",
   "execution_count": null,
   "id": "e7e8a0fe",
   "metadata": {},
   "outputs": [],
   "source": []
  },
  {
   "cell_type": "markdown",
   "id": "1a39b9c7",
   "metadata": {},
   "source": [
    "### Model Evaluation"
   ]
  },
  {
   "cell_type": "code",
   "execution_count": null,
   "id": "c6913a9e",
   "metadata": {},
   "outputs": [],
   "source": [
    "from sklearn.metrics import r2_score"
   ]
  },
  {
   "cell_type": "code",
   "execution_count": null,
   "id": "f290da18",
   "metadata": {},
   "outputs": [],
   "source": [
    "\n",
    "y_train_pred = lr.predict(X_train[target_columns])\n"
   ]
  },
  {
   "cell_type": "code",
   "execution_count": null,
   "id": "1a81f9b7",
   "metadata": {},
   "outputs": [],
   "source": [
    "sns.distplot(y_train-y_train_pred)\n",
    "plt.title('Error Terms')\n",
    "plt.xlabel('Errors')"
   ]
  },
  {
   "cell_type": "markdown",
   "id": "cb673037",
   "metadata": {},
   "source": [
    "Errors are normally distributed around a mean 0"
   ]
  },
  {
   "cell_type": "code",
   "execution_count": null,
   "id": "6125301e",
   "metadata": {},
   "outputs": [],
   "source": [
    "r2_score(y_train,y_train_pred)"
   ]
  },
  {
   "cell_type": "code",
   "execution_count": null,
   "id": "ea0b8dee",
   "metadata": {},
   "outputs": [],
   "source": []
  },
  {
   "cell_type": "code",
   "execution_count": null,
   "id": "fe4bdd9d",
   "metadata": {},
   "outputs": [],
   "source": []
  },
  {
   "cell_type": "code",
   "execution_count": null,
   "id": "77121b16",
   "metadata": {},
   "outputs": [],
   "source": [
    "num_vars = ['temp','atemp','hum','windspeed']\n",
    "\n",
    "#Test data to be transformed only, no fitting\n",
    "X_test[num_vars] = scaler.transform(X_test[num_vars])"
   ]
  },
  {
   "cell_type": "code",
   "execution_count": null,
   "id": "9795a847",
   "metadata": {},
   "outputs": [],
   "source": [
    "#Predict the values for test data\n",
    "y_test_pred = lr.predict(X_test[target_columns])"
   ]
  },
  {
   "cell_type": "code",
   "execution_count": null,
   "id": "2bacf5dd",
   "metadata": {},
   "outputs": [],
   "source": [
    "r2_score(y_test,y_test_pred)"
   ]
  },
  {
   "cell_type": "code",
   "execution_count": null,
   "id": "b1d4024e",
   "metadata": {},
   "outputs": [],
   "source": []
  }
 ],
 "metadata": {
  "kernelspec": {
   "display_name": "Python 3 (ipykernel)",
   "language": "python",
   "name": "python3"
  },
  "language_info": {
   "codemirror_mode": {
    "name": "ipython",
    "version": 3
   },
   "file_extension": ".py",
   "mimetype": "text/x-python",
   "name": "python",
   "nbconvert_exporter": "python",
   "pygments_lexer": "ipython3",
   "version": "3.9.13"
  }
 },
 "nbformat": 4,
 "nbformat_minor": 5
}
